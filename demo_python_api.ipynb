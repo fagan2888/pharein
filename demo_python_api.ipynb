{
 "cells": [
  {
   "cell_type": "code",
   "execution_count": 1,
   "metadata": {
    "ExecuteTime": {
     "end_time": "2019-12-06T13:54:36.743093Z",
     "start_time": "2019-12-06T13:54:36.726839Z"
    }
   },
   "outputs": [],
   "source": [
    "import pharein as ph"
   ]
  },
  {
   "cell_type": "code",
   "execution_count": 2,
   "metadata": {
    "ExecuteTime": {
     "end_time": "2019-12-06T13:54:36.994889Z",
     "start_time": "2019-12-06T13:54:36.990101Z"
    }
   },
   "outputs": [],
   "source": [
    "ph.globals.sim = None"
   ]
  },
  {
   "cell_type": "markdown",
   "metadata": {},
   "source": [
    "# user initialization script"
   ]
  },
  {
   "cell_type": "code",
   "execution_count": 3,
   "metadata": {
    "ExecuteTime": {
     "end_time": "2019-12-06T13:54:37.824658Z",
     "start_time": "2019-12-06T13:54:37.791317Z"
    }
   },
   "outputs": [
    {
     "name": "stdout",
     "output_type": "stream",
     "text": [
      "Need to test boxes are OK (no overlap, in level range, etc.)\n"
     ]
    },
    {
     "data": {
      "text/plain": [
       "<pharein.uniform_model.UniformModel at 0x102621bd0>"
      ]
     },
     "execution_count": 3,
     "metadata": {},
     "output_type": "execute_result"
    }
   ],
   "source": [
    "\n",
    "\n",
    "# configure the simulation\n",
    "\n",
    "ph.Simulation(\n",
    "    time_step_nbr=1000,                 # number of time steps (not specified if time_step and final_time provided)\n",
    "    final_time=1.,                      # simulation final time (not specified if time_step and time_step_nbr provided)\n",
    "    boundary_types=\"periodic\",          # boundary condition, string or tuple, length == len(cell) == len(dl)\n",
    "    cells=80,                           # integer or tuple length == dimension\n",
    "    dl=0.1,                             # mesh size of the root level, float or tuple\n",
    "    path='test5',                        # directory where INI file and diagnostics directories will be\n",
    "    smallest_patch_size=10,\n",
    "    largest_patch_size=64\n",
    "\n",
    "  # time_step = 0.005,                  # simulation time step (not specified if time_step_nbr and final_time provided)\n",
    "  # domain_size = 8.,                   # float or tuple, not specified if dl and cells are\n",
    "  # interp_order = 1,                   # interpolation order, [default = 1] can be 1, 2, 3 or 4\n",
    "  # layout = \"yee\"                      # grid layout, [default=\"yee\"]\n",
    "  # origin = 0.,                        # position of the origin of the domain, float or tuple (length = dimension)\n",
    "  # particle_pusher = \"modified_boris\", # particle pusher method, [default = \"modified_boris\"]\n",
    "  # refined_particle_nbr = 2,           # number of refined particle a particle is split into [default : ]\n",
    "  # diag_export_format = 'ascii',       # export format of the diagnostics [default = 'ascii']\n",
    "  #, refinement = {\"level\":[0,1],       # AMR parameters\n",
    "  #                \"extent_ratio\":[0.4, 0.6],\n",
    "  #                \"refinement_iterations\":[0, 3]},\n",
    "\n",
    ")\n",
    "\n",
    "\n",
    "# configure the model for the initial condition\n",
    "ph.UniformModel(proton1={},\n",
    "                proton2={\"density\":2,\n",
    "                         \"vbulk\":(1., 0., 0.)}\n",
    "\n",
    "                # demo_species = {density: 2,           # default = 1\n",
    "                #                 vbulk: (10,0,0),      # default = (0., 0., 0.)\n",
    "                #                 charge: 1,            # default = 1\n",
    "                #                 mass: 16,             # default = 1\n",
    "                #                 beta: 0.05,           # default = 1\n",
    "                #                 anisotropy=1          # default = 1 (Tperp/Tpara)\n",
    "                #                 }\n",
    ")\n",
    "\n",
    "\n",
    "\n",
    "\n"
   ]
  },
  {
   "cell_type": "code",
   "execution_count": 4,
   "metadata": {
    "ExecuteTime": {
     "end_time": "2019-12-06T13:47:39.111971Z",
     "start_time": "2019-12-06T13:47:39.101811Z"
    }
   },
   "outputs": [
    {
     "data": {
      "text/plain": [
       "{'bx': <function pharein.uniform_model.<lambda>>,\n",
       " 'by': <function pharein.uniform_model.<lambda>>,\n",
       " 'bz': <function pharein.uniform_model.<lambda>>,\n",
       " 'ex': <function pharein.uniform_model.<lambda>>,\n",
       " 'ey': <function pharein.uniform_model.<lambda>>,\n",
       " 'ez': <function pharein.uniform_model.<lambda>>,\n",
       " 'model': 'model',\n",
       " 'model_name': 'uniform',\n",
       " 'proton1': {'anisotropy': <function pharein.uniform_model.<lambda>>,\n",
       "  'beta': <function pharein.uniform_model.<lambda>>,\n",
       "  'charge': 1.0,\n",
       "  'density': <function pharein.uniform_model.<lambda>>,\n",
       "  'mass': 1.0,\n",
       "  'nbrParticlesPerCell': 100,\n",
       "  'vx': <function pharein.uniform_model.<lambda>>,\n",
       "  'vy': <function pharein.uniform_model.<lambda>>,\n",
       "  'vz': <function pharein.uniform_model.<lambda>>},\n",
       " 'proton2': {'anisotropy': <function pharein.uniform_model.<lambda>>,\n",
       "  'beta': <function pharein.uniform_model.<lambda>>,\n",
       "  'charge': 1.0,\n",
       "  'density': <function pharein.uniform_model.<lambda>>,\n",
       "  'mass': 1.0,\n",
       "  'nbrParticlesPerCell': 100,\n",
       "  'vx': <function pharein.uniform_model.<lambda>>,\n",
       "  'vy': <function pharein.uniform_model.<lambda>>,\n",
       "  'vz': <function pharein.uniform_model.<lambda>>}}"
      ]
     },
     "execution_count": 4,
     "metadata": {},
     "output_type": "execute_result"
    }
   ],
   "source": [
    "ph.globals.sim.model.model"
   ]
  },
  {
   "cell_type": "code",
   "execution_count": 5,
   "metadata": {
    "ExecuteTime": {
     "end_time": "2019-10-10T09:14:50.171934Z",
     "start_time": "2019-10-10T09:14:50.167125Z"
    }
   },
   "outputs": [],
   "source": [
    "d = ph.globals.sim.model.model[\"proton1\"][\"density\"]"
   ]
  },
  {
   "cell_type": "code",
   "execution_count": 6,
   "metadata": {
    "ExecuteTime": {
     "end_time": "2019-10-10T09:14:50.397977Z",
     "start_time": "2019-10-10T09:14:50.390091Z"
    }
   },
   "outputs": [
    {
     "data": {
      "text/plain": [
       "1.0"
      ]
     },
     "execution_count": 6,
     "metadata": {},
     "output_type": "execute_result"
    }
   ],
   "source": [
    "d(2)"
   ]
  },
  {
   "cell_type": "code",
   "execution_count": 9,
   "metadata": {
    "ExecuteTime": {
     "end_time": "2019-10-10T09:16:53.593520Z",
     "start_time": "2019-10-10T09:16:53.584538Z"
    }
   },
   "outputs": [
    {
     "data": {
      "text/plain": [
       "<function pharein.uniform_model.<lambda>>"
      ]
     },
     "execution_count": 9,
     "metadata": {},
     "output_type": "execute_result"
    }
   ],
   "source": [
    "ph.globals.sim.model.model['bx']"
   ]
  },
  {
   "cell_type": "code",
   "execution_count": null,
   "metadata": {},
   "outputs": [],
   "source": []
  }
 ],
 "metadata": {
  "kernelspec": {
   "display_name": "Python 3",
   "language": "python",
   "name": "python3"
  },
  "language_info": {
   "codemirror_mode": {
    "name": "ipython",
    "version": 2
   },
   "file_extension": ".py",
   "mimetype": "text/x-python",
   "name": "python",
   "nbconvert_exporter": "python",
   "pygments_lexer": "ipython2",
   "version": "2.7.16"
  },
  "varInspector": {
   "cols": {
    "lenName": 16,
    "lenType": 16,
    "lenVar": 40
   },
   "kernels_config": {
    "python": {
     "delete_cmd_postfix": "",
     "delete_cmd_prefix": "del ",
     "library": "var_list.py",
     "varRefreshCmd": "print(var_dic_list())"
    },
    "r": {
     "delete_cmd_postfix": ") ",
     "delete_cmd_prefix": "rm(",
     "library": "var_list.r",
     "varRefreshCmd": "cat(var_dic_list()) "
    }
   },
   "types_to_exclude": [
    "module",
    "function",
    "builtin_function_or_method",
    "instance",
    "_Feature"
   ],
   "window_display": false
  }
 },
 "nbformat": 4,
 "nbformat_minor": 2
}
