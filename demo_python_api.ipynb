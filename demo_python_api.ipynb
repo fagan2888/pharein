{
 "cells": [
  {
   "cell_type": "code",
   "execution_count": 1,
   "metadata": {},
   "outputs": [],
   "source": [
    "import uniform_model\n",
    "import simulation\n",
    "import diagnostics\n",
    "import phare"
   ]
  },
  {
   "cell_type": "markdown",
   "metadata": {},
   "source": [
    "# Running miniphare from Python Tutorial"
   ]
  },
  {
   "cell_type": "markdown",
   "metadata": {},
   "source": [
    "First create a simulation object. Note that the 'path' is relative to where the script will be executed"
   ]
  },
  {
   "cell_type": "code",
   "execution_count": 2,
   "metadata": {},
   "outputs": [],
   "source": [
    "simu = simulation.Simulation(time_step_nbr=1000, boundary_types=\"periodic\",\n",
    "                             cells=80, dl=0.1, final_time=1.,path='simu1')"
   ]
  },
  {
   "cell_type": "markdown",
   "metadata": {},
   "source": [
    "Then define some diagnostics. We create:\n",
    "- two FluidDiagnostics : $\\rho_s$ and $\\phi_s$ for species 'proton1'\n",
    "- two ElectromagDiagnostics : for $\\mathbf{E}$ and $\\mathbf{B}$"
   ]
  },
  {
   "cell_type": "code",
   "execution_count": 3,
   "metadata": {},
   "outputs": [],
   "source": [
    "fd1 = diagnostics.FluidDiagnostics(name=\"FluidDiagnostics1\", diag_type=\"rho_s\",\n",
    "                                   write_every=10, compute_every=5, start_iteration=0,\n",
    "                                   last_iteration=1000, species_name=\"proton1\")\n",
    "\n",
    "fd2 = diagnostics.FluidDiagnostics(name=\"FluidDiagnostics2\",\n",
    "                                   diag_type=\"flux_s\", write_every=10, compute_every=5,\n",
    "                                   start_iteration=0, last_iteration=1000, species_name=\"proton1\")\n",
    "\n",
    "ed1 = diagnostics.ElectromagDiagnostics(name=\"ElectromagDiagnostics1\", diag_type=\"E\",\n",
    "                                        write_every=10, compute_evert=5, start_teration=0, last_iteration=1000)\n",
    "\n",
    "ed2 = diagnostics.ElectromagDiagnostics(name=\"ElectromagDiagnostics2\", diag_type=\"B\",\n",
    "                                        write_every=10, compute_evert=5, start_teration=0, last_iteration=1000)"
   ]
  },
  {
   "cell_type": "markdown",
   "metadata": {},
   "source": [
    "add the diagnostics to the simulation"
   ]
  },
  {
   "cell_type": "code",
   "execution_count": 4,
   "metadata": {},
   "outputs": [
    {
     "ename": "RuntimeError",
     "evalue": "Error: invalid diagnostics duration",
     "output_type": "error",
     "traceback": [
      "\u001b[0;31m---------------------------------------------------------------------------\u001b[0m",
      "\u001b[0;31mRuntimeError\u001b[0m                              Traceback (most recent call last)",
      "\u001b[0;32m<ipython-input-4-acf4ad68aa2f>\u001b[0m in \u001b[0;36m<module>\u001b[0;34m()\u001b[0m\n\u001b[0;32m----> 1\u001b[0;31m \u001b[0msimu\u001b[0m\u001b[0;34m.\u001b[0m\u001b[0madd_diagnostics\u001b[0m\u001b[0;34m(\u001b[0m\u001b[0mfd1\u001b[0m\u001b[0;34m)\u001b[0m\u001b[0;34m\u001b[0m\u001b[0m\n\u001b[0m\u001b[1;32m      2\u001b[0m \u001b[0msimu\u001b[0m\u001b[0;34m.\u001b[0m\u001b[0madd_diagnostics\u001b[0m\u001b[0;34m(\u001b[0m\u001b[0mfd2\u001b[0m\u001b[0;34m)\u001b[0m\u001b[0;34m\u001b[0m\u001b[0m\n\u001b[1;32m      3\u001b[0m \u001b[0msimu\u001b[0m\u001b[0;34m.\u001b[0m\u001b[0madd_diagnostics\u001b[0m\u001b[0;34m(\u001b[0m\u001b[0med1\u001b[0m\u001b[0;34m)\u001b[0m\u001b[0;34m\u001b[0m\u001b[0m\n\u001b[1;32m      4\u001b[0m \u001b[0msimu\u001b[0m\u001b[0;34m.\u001b[0m\u001b[0madd_diagnostics\u001b[0m\u001b[0;34m(\u001b[0m\u001b[0med2\u001b[0m\u001b[0;34m)\u001b[0m\u001b[0;34m\u001b[0m\u001b[0m\n",
      "\u001b[0;32m~/Documents/code/phare/miniphare/inputs/ini/simulation.py\u001b[0m in \u001b[0;36madd_diagnostics\u001b[0;34m(self, diag)\u001b[0m\n\u001b[1;32m    321\u001b[0m         \u001b[0;31m# check if the duration of the diagnostics is valid, given the duration of the simulation\u001b[0m\u001b[0;34m\u001b[0m\u001b[0;34m\u001b[0m\u001b[0m\n\u001b[1;32m    322\u001b[0m         \u001b[0;32mif\u001b[0m \u001b[0;32mnot\u001b[0m \u001b[0mself\u001b[0m\u001b[0;34m.\u001b[0m\u001b[0mwithin_simulation_duration\u001b[0m\u001b[0;34m(\u001b[0m\u001b[0mdiag\u001b[0m\u001b[0;34m.\u001b[0m\u001b[0miteration_interval\u001b[0m\u001b[0;34m(\u001b[0m\u001b[0;34m)\u001b[0m\u001b[0;34m)\u001b[0m\u001b[0;34m:\u001b[0m\u001b[0;34m\u001b[0m\u001b[0m\n\u001b[0;32m--> 323\u001b[0;31m             \u001b[0;32mraise\u001b[0m \u001b[0mRuntimeError\u001b[0m\u001b[0;34m(\u001b[0m\u001b[0;34m\"Error: invalid diagnostics duration\"\u001b[0m\u001b[0;34m)\u001b[0m\u001b[0;34m\u001b[0m\u001b[0m\n\u001b[0m\u001b[1;32m    324\u001b[0m \u001b[0;34m\u001b[0m\u001b[0m\n\u001b[1;32m    325\u001b[0m         \u001b[0;31m# check whether the spatial extent of the diagnostics is valid, given the domain size\u001b[0m\u001b[0;34m\u001b[0m\u001b[0;34m\u001b[0m\u001b[0m\n",
      "\u001b[0;31mRuntimeError\u001b[0m: Error: invalid diagnostics duration"
     ]
    }
   ],
   "source": [
    "simu.add_diagnostics(fd1)\n",
    "simu.add_diagnostics(fd2)\n",
    "simu.add_diagnostics(ed1)\n",
    "simu.add_diagnostics(ed2)"
   ]
  },
  {
   "cell_type": "markdown",
   "metadata": {},
   "source": [
    "Now make a model and set the simulation initial condition to this model.\n",
    "Here we create a `UniformModel`.\n",
    "We add default fields (0 electric field and constant unit magnetic field are default)\n",
    "and add 2 proton species. The first one is defined as default (no bulk velocity, unit density, etc.) the second has a custom constant density of twice that of the first species"
   ]
  },
  {
   "cell_type": "code",
   "execution_count": 8,
   "metadata": {},
   "outputs": [],
   "source": [
    "model = uniform_model.UniformModel()\n",
    "\n",
    "model.add_fields()\n",
    "model.add_species(\"proton1\")\n",
    "model.add_species(\"proton2\", density=2.)\n",
    "\n",
    "simu.set_model(model)"
   ]
  },
  {
   "cell_type": "markdown",
   "metadata": {},
   "source": [
    "Then we prepare a job, this will write an INI file where it should be (simu.path == 'simu1' in this case)\n",
    "This will create the job directory under the specified path, and within it the diagnostics directories."
   ]
  },
  {
   "cell_type": "code",
   "execution_count": 9,
   "metadata": {},
   "outputs": [
    {
     "name": "stdout",
     "output_type": "stream",
     "text": [
      "preparing job...\n",
      "mkdir simu1\n",
      "writing ini file in simu1/\n",
      "mkdir simu1/fluiddiagnostics1\n",
      "mkdir simu1/fluiddiagnostics2\n",
      "mkdir simu1/electromagdiagnostics1\n",
      "mkdir simu1/electromagdiagnostics2\n"
     ]
    }
   ],
   "source": [
    "simulation.prepare_job(simu)"
   ]
  },
  {
   "cell_type": "code",
   "execution_count": null,
   "metadata": {},
   "outputs": [],
   "source": [
    "phare.MiniPHARE().run(simu)"
   ]
  },
  {
   "cell_type": "markdown",
   "metadata": {},
   "source": [
    "and finally run the code with this simulation.\n",
    "This requires 'miniphare' executable to be in your PATH environment variable."
   ]
  },
  {
   "cell_type": "markdown",
   "metadata": {},
   "source": [
    "Alternatively, if the directories and INI files already have been generated, one can also use the convenience executable phare.py.\n",
    "\n",
    "`./phare.py path_to_job_directory`\n",
    "\n",
    "Provided your 'miniphare' executable is in the PATH environment variable, this command will jump into 'path_to_job_directory' (where 'phare.ini' and diagnostics directories are) and run 'miniphare phare.ini' for you."
   ]
  },
  {
   "cell_type": "markdown",
   "metadata": {},
   "source": [
    "# Re-using simulation objects to run parametric studies\n",
    "\n",
    "One can easily re-use a simulation object by copying it.\n",
    "Once copied, one can make a list and run them one after this other.\n",
    "The following example copies the above reference simulation and modifies it to add an Oxygen population for instance."
   ]
  },
  {
   "cell_type": "code",
   "execution_count": 14,
   "metadata": {},
   "outputs": [],
   "source": [
    "import copy"
   ]
  },
  {
   "cell_type": "code",
   "execution_count": 16,
   "metadata": {},
   "outputs": [],
   "source": [
    "simu2 = copy.copy(simu)\n",
    "simu2.model.add_species(\"oxygen\", density=0.1, mass=16)\n",
    "simu2.path = 'simu2'\n",
    "\n",
    "my_simulations = [simu, simu2]\n",
    "\n",
    "for sim in my_simulations:\n",
    "    phare.MiniPHARE().run(sim)\n",
    "    "
   ]
  },
  {
   "cell_type": "code",
   "execution_count": null,
   "metadata": {},
   "outputs": [],
   "source": []
  }
 ],
 "metadata": {
  "kernelspec": {
   "display_name": "Python 3",
   "language": "python",
   "name": "python3"
  },
  "language_info": {
   "codemirror_mode": {
    "name": "ipython",
    "version": 3
   },
   "file_extension": ".py",
   "mimetype": "text/x-python",
   "name": "python",
   "nbconvert_exporter": "python",
   "pygments_lexer": "ipython3",
   "version": "3.6.4"
  }
 },
 "nbformat": 4,
 "nbformat_minor": 2
}
